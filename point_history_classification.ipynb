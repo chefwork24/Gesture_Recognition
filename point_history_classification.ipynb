{
 "cells": [
  {
   "cell_type": "code",
   "execution_count": 1,
   "metadata": {},
   "outputs": [
    {
     "name": "stderr",
     "output_type": "stream",
     "text": [
      "2023-06-29 15:35:17.427286: I tensorflow/core/util/port.cc:110] oneDNN custom operations are on. You may see slightly different numerical results due to floating-point round-off errors from different computation orders. To turn them off, set the environment variable `TF_ENABLE_ONEDNN_OPTS=0`.\n",
      "2023-06-29 15:35:17.429929: I tensorflow/tsl/cuda/cudart_stub.cc:28] Could not find cuda drivers on your machine, GPU will not be used.\n",
      "2023-06-29 15:35:17.483235: I tensorflow/tsl/cuda/cudart_stub.cc:28] Could not find cuda drivers on your machine, GPU will not be used.\n",
      "2023-06-29 15:35:17.484648: I tensorflow/core/platform/cpu_feature_guard.cc:182] This TensorFlow binary is optimized to use available CPU instructions in performance-critical operations.\n",
      "To enable the following instructions: AVX2 AVX512F AVX512_VNNI FMA, in other operations, rebuild TensorFlow with the appropriate compiler flags.\n",
      "2023-06-29 15:35:18.434620: W tensorflow/compiler/tf2tensorrt/utils/py_utils.cc:38] TF-TRT Warning: Could not find TensorRT\n"
     ]
    }
   ],
   "source": [
    "import csv\n",
    "\n",
    "import numpy as np\n",
    "import tensorflow as tf\n",
    "from sklearn.model_selection import train_test_split\n",
    "\n",
    "RANDOM_SEED = 42"
   ]
  },
  {
   "cell_type": "markdown",
   "metadata": {},
   "source": [
    "# 各パス指定"
   ]
  },
  {
   "cell_type": "code",
   "execution_count": 2,
   "metadata": {},
   "outputs": [],
   "source": [
    "dataset = 'model/point_history_classifier/point_history.csv'\n",
    "model_save_path = 'model/point_history_classifier/point_history_classifier.hdf5'"
   ]
  },
  {
   "cell_type": "markdown",
   "metadata": {},
   "source": [
    "# 分類数設定"
   ]
  },
  {
   "cell_type": "code",
   "execution_count": 3,
   "metadata": {},
   "outputs": [],
   "source": [
    "NUM_CLASSES = 3"
   ]
  },
  {
   "cell_type": "markdown",
   "metadata": {},
   "source": [
    "# 入力長"
   ]
  },
  {
   "cell_type": "code",
   "execution_count": 4,
   "metadata": {},
   "outputs": [],
   "source": [
    "TIME_STEPS = 16\n",
    "DIMENSION = 2"
   ]
  },
  {
   "cell_type": "markdown",
   "metadata": {},
   "source": [
    "# 学習データ読み込み"
   ]
  },
  {
   "cell_type": "code",
   "execution_count": 5,
   "metadata": {},
   "outputs": [],
   "source": [
    "X_dataset = np.loadtxt(dataset, delimiter=',', dtype='float32', usecols=list(range(1, (TIME_STEPS * DIMENSION) + 1)))"
   ]
  },
  {
   "cell_type": "code",
   "execution_count": 6,
   "metadata": {},
   "outputs": [],
   "source": [
    "y_dataset = np.loadtxt(dataset, delimiter=',', dtype='int32', usecols=(0))"
   ]
  },
  {
   "cell_type": "code",
   "execution_count": 7,
   "metadata": {},
   "outputs": [],
   "source": [
    "X_train, X_test, y_train, y_test = train_test_split(X_dataset, y_dataset, train_size=0.75, random_state=RANDOM_SEED)"
   ]
  },
  {
   "cell_type": "markdown",
   "metadata": {},
   "source": [
    "# モデル構築"
   ]
  },
  {
   "cell_type": "code",
   "execution_count": 8,
   "metadata": {},
   "outputs": [],
   "source": [
    "use_lstm = False\n",
    "model = None\n",
    "\n",
    "if use_lstm:\n",
    "    model = tf.keras.models.Sequential([\n",
    "        tf.keras.layers.InputLayer(input_shape=(TIME_STEPS * DIMENSION, )),\n",
    "        tf.keras.layers.Reshape((TIME_STEPS, DIMENSION), input_shape=(TIME_STEPS * DIMENSION, )), \n",
    "        tf.keras.layers.Dropout(0.2),\n",
    "        tf.keras.layers.LSTM(16, input_shape=[TIME_STEPS, DIMENSION]),\n",
    "        tf.keras.layers.Dropout(0.5),\n",
    "        tf.keras.layers.Dense(10, activation='relu'),\n",
    "        tf.keras.layers.Dense(NUM_CLASSES, activation='softmax')\n",
    "    ])\n",
    "else:\n",
    "    model = tf.keras.models.Sequential([\n",
    "        tf.keras.layers.InputLayer(input_shape=(TIME_STEPS * DIMENSION, )),\n",
    "        tf.keras.layers.Dropout(0.2),\n",
    "        tf.keras.layers.Dense(24, activation='relu'),\n",
    "        tf.keras.layers.Dropout(0.5),\n",
    "        tf.keras.layers.Dense(10, activation='relu'),\n",
    "        tf.keras.layers.Dense(NUM_CLASSES, activation='softmax')\n",
    "    ])"
   ]
  },
  {
   "cell_type": "code",
   "execution_count": 9,
   "metadata": {},
   "outputs": [
    {
     "name": "stdout",
     "output_type": "stream",
     "text": [
      "Model: \"sequential\"\n",
      "_________________________________________________________________\n",
      " Layer (type)                Output Shape              Param #   \n",
      "=================================================================\n",
      " dropout (Dropout)           (None, 32)                0         \n",
      "                                                                 \n",
      " dense (Dense)               (None, 24)                792       \n",
      "                                                                 \n",
      " dropout_1 (Dropout)         (None, 24)                0         \n",
      "                                                                 \n",
      " dense_1 (Dense)             (None, 10)                250       \n",
      "                                                                 \n",
      " dense_2 (Dense)             (None, 3)                 33        \n",
      "                                                                 \n",
      "=================================================================\n",
      "Total params: 1,075\n",
      "Trainable params: 1,075\n",
      "Non-trainable params: 0\n",
      "_________________________________________________________________\n"
     ]
    }
   ],
   "source": [
    "model.summary()  # tf.keras.utils.plot_model(model, show_shapes=True)"
   ]
  },
  {
   "cell_type": "code",
   "execution_count": 10,
   "metadata": {},
   "outputs": [],
   "source": [
    "# モデルチェックポイントのコールバック\n",
    "cp_callback = tf.keras.callbacks.ModelCheckpoint(\n",
    "    model_save_path, verbose=1, save_weights_only=False)\n",
    "# 早期打ち切り用コールバック\n",
    "es_callback = tf.keras.callbacks.EarlyStopping(patience=20, verbose=1)"
   ]
  },
  {
   "cell_type": "code",
   "execution_count": 11,
   "metadata": {},
   "outputs": [],
   "source": [
    "# モデルコンパイル\n",
    "model.compile(\n",
    "    optimizer='adam',\n",
    "    loss='sparse_categorical_crossentropy',\n",
    "    metrics=['accuracy']\n",
    ")"
   ]
  },
  {
   "cell_type": "markdown",
   "metadata": {},
   "source": [
    "# モデル訓練"
   ]
  },
  {
   "cell_type": "code",
   "execution_count": 12,
   "metadata": {
    "scrolled": true
   },
   "outputs": [
    {
     "name": "stdout",
     "output_type": "stream",
     "text": [
      "Epoch 1/1000\n",
      "25/37 [===================>..........] - ETA: 0s - loss: 1.0862 - accuracy: 0.3516 \n",
      "Epoch 1: saving model to model/point_history_classifier/point_history_classifier.hdf5\n",
      "37/37 [==============================] - 1s 7ms/step - loss: 1.0769 - accuracy: 0.3749 - val_loss: 1.0486 - val_accuracy: 0.4341\n",
      "Epoch 2/1000\n",
      "33/37 [=========================>....] - ETA: 0s - loss: 1.0385 - accuracy: 0.4247\n",
      "Epoch 2: saving model to model/point_history_classifier/point_history_classifier.hdf5\n",
      "37/37 [==============================] - 0s 3ms/step - loss: 1.0396 - accuracy: 0.4214 - val_loss: 1.0164 - val_accuracy: 0.4740\n",
      "Epoch 3/1000\n",
      "35/37 [===========================>..] - ETA: 0s - loss: 1.0079 - accuracy: 0.4516\n",
      "Epoch 3: saving model to model/point_history_classifier/point_history_classifier.hdf5\n",
      "37/37 [==============================] - 0s 3ms/step - loss: 1.0075 - accuracy: 0.4516 - val_loss: 0.9876 - val_accuracy: 0.5406\n",
      "Epoch 4/1000\n",
      "34/37 [==========================>...] - ETA: 0s - loss: 0.9817 - accuracy: 0.4683\n",
      "Epoch 4: saving model to model/point_history_classifier/point_history_classifier.hdf5\n",
      "37/37 [==============================] - 0s 3ms/step - loss: 0.9797 - accuracy: 0.4702 - val_loss: 0.9526 - val_accuracy: 0.5843\n",
      "Epoch 5/1000\n",
      "34/37 [==========================>...] - ETA: 0s - loss: 0.9465 - accuracy: 0.5016\n",
      "Epoch 5: saving model to model/point_history_classifier/point_history_classifier.hdf5\n",
      "37/37 [==============================] - 0s 3ms/step - loss: 0.9457 - accuracy: 0.5004 - val_loss: 0.9114 - val_accuracy: 0.6242\n",
      "Epoch 6/1000\n",
      "36/37 [============================>.] - ETA: 0s - loss: 0.9087 - accuracy: 0.5458\n",
      "Epoch 6: saving model to model/point_history_classifier/point_history_classifier.hdf5\n",
      "37/37 [==============================] - 0s 3ms/step - loss: 0.9082 - accuracy: 0.5471 - val_loss: 0.8670 - val_accuracy: 0.6407\n",
      "Epoch 7/1000\n",
      "36/37 [============================>.] - ETA: 0s - loss: 0.8728 - accuracy: 0.6317\n",
      "Epoch 7: saving model to model/point_history_classifier/point_history_classifier.hdf5\n",
      "37/37 [==============================] - 0s 3ms/step - loss: 0.8724 - accuracy: 0.6323 - val_loss: 0.8207 - val_accuracy: 0.8878\n",
      "Epoch 8/1000\n",
      "37/37 [==============================] - ETA: 0s - loss: 0.8369 - accuracy: 0.7377\n",
      "Epoch 8: saving model to model/point_history_classifier/point_history_classifier.hdf5\n",
      "37/37 [==============================] - 0s 3ms/step - loss: 0.8369 - accuracy: 0.7377 - val_loss: 0.7728 - val_accuracy: 0.9119\n",
      "Epoch 9/1000\n",
      "33/37 [=========================>....] - ETA: 0s - loss: 0.7935 - accuracy: 0.7599\n",
      "Epoch 9: saving model to model/point_history_classifier/point_history_classifier.hdf5\n",
      "37/37 [==============================] - 0s 3ms/step - loss: 0.7952 - accuracy: 0.7563 - val_loss: 0.7216 - val_accuracy: 0.9265\n",
      "Epoch 10/1000\n",
      "28/37 [=====================>........] - ETA: 0s - loss: 0.7621 - accuracy: 0.7698\n",
      "Epoch 10: saving model to model/point_history_classifier/point_history_classifier.hdf5\n",
      "37/37 [==============================] - 0s 4ms/step - loss: 0.7576 - accuracy: 0.7688 - val_loss: 0.6755 - val_accuracy: 0.9202\n",
      "Epoch 11/1000\n",
      "30/37 [=======================>......] - ETA: 0s - loss: 0.7309 - accuracy: 0.7693\n",
      "Epoch 11: saving model to model/point_history_classifier/point_history_classifier.hdf5\n",
      "37/37 [==============================] - 0s 3ms/step - loss: 0.7250 - accuracy: 0.7707 - val_loss: 0.6280 - val_accuracy: 0.9347\n",
      "Epoch 12/1000\n",
      "35/37 [===========================>..] - ETA: 0s - loss: 0.6973 - accuracy: 0.7741\n",
      "Epoch 12: saving model to model/point_history_classifier/point_history_classifier.hdf5\n",
      "37/37 [==============================] - 0s 3ms/step - loss: 0.6963 - accuracy: 0.7732 - val_loss: 0.5863 - val_accuracy: 0.9322\n",
      "Epoch 13/1000\n",
      " 1/37 [..............................] - ETA: 0s - loss: 0.8263 - accuracy: 0.6719\n",
      "Epoch 13: saving model to model/point_history_classifier/point_history_classifier.hdf5\n",
      "37/37 [==============================] - 0s 3ms/step - loss: 0.6618 - accuracy: 0.7806 - val_loss: 0.5482 - val_accuracy: 0.9347\n",
      "Epoch 14/1000\n",
      " 1/37 [..............................] - ETA: 0s - loss: 0.6631 - accuracy: 0.7891\n",
      "Epoch 14: saving model to model/point_history_classifier/point_history_classifier.hdf5\n",
      "37/37 [==============================] - 0s 3ms/step - loss: 0.6394 - accuracy: 0.7855 - val_loss: 0.5168 - val_accuracy: 0.9309\n",
      "Epoch 15/1000\n",
      " 1/37 [..............................] - ETA: 0s - loss: 0.5966 - accuracy: 0.8125\n",
      "Epoch 15: saving model to model/point_history_classifier/point_history_classifier.hdf5\n",
      "37/37 [==============================] - 0s 3ms/step - loss: 0.6153 - accuracy: 0.7908 - val_loss: 0.4879 - val_accuracy: 0.9322\n",
      "Epoch 16/1000\n",
      "33/37 [=========================>....] - ETA: 0s - loss: 0.5913 - accuracy: 0.7969\n",
      "Epoch 16: saving model to model/point_history_classifier/point_history_classifier.hdf5\n",
      "37/37 [==============================] - 0s 3ms/step - loss: 0.5912 - accuracy: 0.7965 - val_loss: 0.4607 - val_accuracy: 0.9373\n",
      "Epoch 17/1000\n",
      "33/37 [=========================>....] - ETA: 0s - loss: 0.5760 - accuracy: 0.7981\n",
      "Epoch 17: saving model to model/point_history_classifier/point_history_classifier.hdf5\n",
      "37/37 [==============================] - 0s 3ms/step - loss: 0.5741 - accuracy: 0.7975 - val_loss: 0.4397 - val_accuracy: 0.9423\n",
      "Epoch 18/1000\n",
      " 1/37 [..............................] - ETA: 0s - loss: 0.5595 - accuracy: 0.8203\n",
      "Epoch 18: saving model to model/point_history_classifier/point_history_classifier.hdf5\n",
      "37/37 [==============================] - 0s 3ms/step - loss: 0.5702 - accuracy: 0.7992 - val_loss: 0.4237 - val_accuracy: 0.9417\n",
      "Epoch 19/1000\n",
      "37/37 [==============================] - ETA: 0s - loss: 0.5454 - accuracy: 0.8052\n",
      "Epoch 19: saving model to model/point_history_classifier/point_history_classifier.hdf5\n",
      "37/37 [==============================] - 0s 3ms/step - loss: 0.5454 - accuracy: 0.8052 - val_loss: 0.4061 - val_accuracy: 0.9436\n",
      "Epoch 20/1000\n",
      "34/37 [==========================>...] - ETA: 0s - loss: 0.5309 - accuracy: 0.8176\n",
      "Epoch 20: saving model to model/point_history_classifier/point_history_classifier.hdf5\n",
      "37/37 [==============================] - 0s 3ms/step - loss: 0.5355 - accuracy: 0.8168 - val_loss: 0.3916 - val_accuracy: 0.9436\n",
      "Epoch 21/1000\n",
      " 1/37 [..............................] - ETA: 0s - loss: 0.6324 - accuracy: 0.7031\n",
      "Epoch 21: saving model to model/point_history_classifier/point_history_classifier.hdf5\n",
      "37/37 [==============================] - 0s 3ms/step - loss: 0.5246 - accuracy: 0.8123 - val_loss: 0.3791 - val_accuracy: 0.9499\n",
      "Epoch 22/1000\n",
      "37/37 [==============================] - ETA: 0s - loss: 0.5124 - accuracy: 0.8219\n",
      "Epoch 22: saving model to model/point_history_classifier/point_history_classifier.hdf5\n",
      "37/37 [==============================] - 0s 3ms/step - loss: 0.5124 - accuracy: 0.8219 - val_loss: 0.3686 - val_accuracy: 0.9487\n",
      "Epoch 23/1000\n",
      "34/37 [==========================>...] - ETA: 0s - loss: 0.5241 - accuracy: 0.8074\n",
      "Epoch 23: saving model to model/point_history_classifier/point_history_classifier.hdf5\n",
      "37/37 [==============================] - 0s 3ms/step - loss: 0.5192 - accuracy: 0.8094 - val_loss: 0.3628 - val_accuracy: 0.9493\n",
      "Epoch 24/1000\n",
      "31/37 [========================>.....] - ETA: 0s - loss: 0.4966 - accuracy: 0.8226\n",
      "Epoch 24: saving model to model/point_history_classifier/point_history_classifier.hdf5\n",
      "37/37 [==============================] - 0s 3ms/step - loss: 0.4925 - accuracy: 0.8223 - val_loss: 0.3525 - val_accuracy: 0.9512\n",
      "Epoch 25/1000\n",
      " 1/37 [..............................] - ETA: 0s - loss: 0.5044 - accuracy: 0.8047\n",
      "Epoch 25: saving model to model/point_history_classifier/point_history_classifier.hdf5\n",
      "37/37 [==============================] - 0s 3ms/step - loss: 0.4774 - accuracy: 0.8297 - val_loss: 0.3399 - val_accuracy: 0.9480\n",
      "Epoch 26/1000\n",
      "37/37 [==============================] - ETA: 0s - loss: 0.4769 - accuracy: 0.8206\n",
      "Epoch 26: saving model to model/point_history_classifier/point_history_classifier.hdf5\n",
      "37/37 [==============================] - 0s 3ms/step - loss: 0.4769 - accuracy: 0.8206 - val_loss: 0.3312 - val_accuracy: 0.9506\n",
      "Epoch 27/1000\n",
      " 1/37 [..............................] - ETA: 0s - loss: 0.4295 - accuracy: 0.8438\n",
      "Epoch 27: saving model to model/point_history_classifier/point_history_classifier.hdf5\n",
      "37/37 [==============================] - 0s 3ms/step - loss: 0.4687 - accuracy: 0.8284 - val_loss: 0.3257 - val_accuracy: 0.9480\n",
      "Epoch 28/1000\n",
      "33/37 [=========================>....] - ETA: 0s - loss: 0.4632 - accuracy: 0.8324\n",
      "Epoch 28: saving model to model/point_history_classifier/point_history_classifier.hdf5\n",
      "37/37 [==============================] - 0s 3ms/step - loss: 0.4616 - accuracy: 0.8331 - val_loss: 0.3154 - val_accuracy: 0.9499\n",
      "Epoch 29/1000\n",
      "36/37 [============================>.] - ETA: 0s - loss: 0.4610 - accuracy: 0.8329\n",
      "Epoch 29: saving model to model/point_history_classifier/point_history_classifier.hdf5\n",
      "37/37 [==============================] - 0s 3ms/step - loss: 0.4605 - accuracy: 0.8337 - val_loss: 0.3096 - val_accuracy: 0.9531\n",
      "Epoch 30/1000\n",
      " 1/37 [..............................] - ETA: 0s - loss: 0.4805 - accuracy: 0.8281\n",
      "Epoch 30: saving model to model/point_history_classifier/point_history_classifier.hdf5\n",
      "37/37 [==============================] - 0s 3ms/step - loss: 0.4604 - accuracy: 0.8343 - val_loss: 0.3042 - val_accuracy: 0.9525\n",
      "Epoch 31/1000\n",
      "36/37 [============================>.] - ETA: 0s - loss: 0.4589 - accuracy: 0.8327\n",
      "Epoch 31: saving model to model/point_history_classifier/point_history_classifier.hdf5\n",
      "37/37 [==============================] - 0s 3ms/step - loss: 0.4575 - accuracy: 0.8335 - val_loss: 0.3003 - val_accuracy: 0.9480\n",
      "Epoch 32/1000\n",
      "37/37 [==============================] - ETA: 0s - loss: 0.4390 - accuracy: 0.8430\n",
      "Epoch 32: saving model to model/point_history_classifier/point_history_classifier.hdf5\n",
      "37/37 [==============================] - 0s 3ms/step - loss: 0.4390 - accuracy: 0.8430 - val_loss: 0.2946 - val_accuracy: 0.9493\n",
      "Epoch 33/1000\n",
      "33/37 [=========================>....] - ETA: 0s - loss: 0.4237 - accuracy: 0.8435\n",
      "Epoch 33: saving model to model/point_history_classifier/point_history_classifier.hdf5\n",
      "37/37 [==============================] - 0s 3ms/step - loss: 0.4220 - accuracy: 0.8449 - val_loss: 0.2875 - val_accuracy: 0.9493\n",
      "Epoch 34/1000\n",
      "27/37 [====================>.........] - ETA: 0s - loss: 0.4255 - accuracy: 0.8455\n",
      "Epoch 34: saving model to model/point_history_classifier/point_history_classifier.hdf5\n",
      "37/37 [==============================] - 0s 4ms/step - loss: 0.4238 - accuracy: 0.8468 - val_loss: 0.2796 - val_accuracy: 0.9493\n",
      "Epoch 35/1000\n",
      "29/37 [======================>.......] - ETA: 0s - loss: 0.4168 - accuracy: 0.8583\n",
      "Epoch 35: saving model to model/point_history_classifier/point_history_classifier.hdf5\n",
      "37/37 [==============================] - 0s 3ms/step - loss: 0.4177 - accuracy: 0.8533 - val_loss: 0.2707 - val_accuracy: 0.9512\n",
      "Epoch 36/1000\n",
      "30/37 [=======================>......] - ETA: 0s - loss: 0.4117 - accuracy: 0.8430\n",
      "Epoch 36: saving model to model/point_history_classifier/point_history_classifier.hdf5\n",
      "37/37 [==============================] - 0s 3ms/step - loss: 0.4178 - accuracy: 0.8421 - val_loss: 0.2710 - val_accuracy: 0.9474\n",
      "Epoch 37/1000\n",
      "32/37 [========================>.....] - ETA: 0s - loss: 0.4093 - accuracy: 0.8516\n",
      "Epoch 37: saving model to model/point_history_classifier/point_history_classifier.hdf5\n",
      "37/37 [==============================] - 0s 3ms/step - loss: 0.4070 - accuracy: 0.8525 - val_loss: 0.2643 - val_accuracy: 0.9487\n",
      "Epoch 38/1000\n",
      "31/37 [========================>.....] - ETA: 0s - loss: 0.4092 - accuracy: 0.8508\n",
      "Epoch 38: saving model to model/point_history_classifier/point_history_classifier.hdf5\n",
      "37/37 [==============================] - 0s 3ms/step - loss: 0.4030 - accuracy: 0.8538 - val_loss: 0.2585 - val_accuracy: 0.9493\n",
      "Epoch 39/1000\n",
      "26/37 [====================>.........] - ETA: 0s - loss: 0.4081 - accuracy: 0.8504\n",
      "Epoch 39: saving model to model/point_history_classifier/point_history_classifier.hdf5\n",
      "37/37 [==============================] - 0s 4ms/step - loss: 0.4050 - accuracy: 0.8504 - val_loss: 0.2549 - val_accuracy: 0.9518\n",
      "Epoch 40/1000\n",
      "34/37 [==========================>...] - ETA: 0s - loss: 0.3851 - accuracy: 0.8617\n",
      "Epoch 40: saving model to model/point_history_classifier/point_history_classifier.hdf5\n",
      "37/37 [==============================] - 0s 3ms/step - loss: 0.3896 - accuracy: 0.8603 - val_loss: 0.2481 - val_accuracy: 0.9493\n",
      "Epoch 41/1000\n",
      "35/37 [===========================>..] - ETA: 0s - loss: 0.3875 - accuracy: 0.8500\n",
      "Epoch 41: saving model to model/point_history_classifier/point_history_classifier.hdf5\n",
      "37/37 [==============================] - 0s 3ms/step - loss: 0.3932 - accuracy: 0.8489 - val_loss: 0.2520 - val_accuracy: 0.9461\n",
      "Epoch 42/1000\n",
      "35/37 [===========================>..] - ETA: 0s - loss: 0.4002 - accuracy: 0.8540\n",
      "Epoch 42: saving model to model/point_history_classifier/point_history_classifier.hdf5\n",
      "37/37 [==============================] - 0s 3ms/step - loss: 0.3970 - accuracy: 0.8550 - val_loss: 0.2440 - val_accuracy: 0.9499\n",
      "Epoch 43/1000\n",
      "35/37 [===========================>..] - ETA: 0s - loss: 0.3981 - accuracy: 0.8585\n",
      "Epoch 43: saving model to model/point_history_classifier/point_history_classifier.hdf5\n",
      "37/37 [==============================] - 0s 3ms/step - loss: 0.3955 - accuracy: 0.8595 - val_loss: 0.2448 - val_accuracy: 0.9512\n",
      "Epoch 44/1000\n",
      "36/37 [============================>.] - ETA: 0s - loss: 0.3901 - accuracy: 0.8613\n",
      "Epoch 44: saving model to model/point_history_classifier/point_history_classifier.hdf5\n",
      "37/37 [==============================] - 0s 3ms/step - loss: 0.3907 - accuracy: 0.8597 - val_loss: 0.2407 - val_accuracy: 0.9512\n",
      "Epoch 45/1000\n",
      "34/37 [==========================>...] - ETA: 0s - loss: 0.3862 - accuracy: 0.8624\n",
      "Epoch 45: saving model to model/point_history_classifier/point_history_classifier.hdf5\n",
      "37/37 [==============================] - 0s 3ms/step - loss: 0.3869 - accuracy: 0.8628 - val_loss: 0.2399 - val_accuracy: 0.9518\n",
      "Epoch 46/1000\n",
      "37/37 [==============================] - ETA: 0s - loss: 0.3715 - accuracy: 0.8574\n",
      "Epoch 46: saving model to model/point_history_classifier/point_history_classifier.hdf5\n",
      "37/37 [==============================] - 0s 3ms/step - loss: 0.3715 - accuracy: 0.8574 - val_loss: 0.2318 - val_accuracy: 0.9512\n",
      "Epoch 47/1000\n",
      "31/37 [========================>.....] - ETA: 0s - loss: 0.3838 - accuracy: 0.8518\n",
      "Epoch 47: saving model to model/point_history_classifier/point_history_classifier.hdf5\n",
      "37/37 [==============================] - 0s 3ms/step - loss: 0.3788 - accuracy: 0.8548 - val_loss: 0.2289 - val_accuracy: 0.9506\n",
      "Epoch 48/1000\n",
      "26/37 [====================>.........] - ETA: 0s - loss: 0.3671 - accuracy: 0.8594\n",
      "Epoch 48: saving model to model/point_history_classifier/point_history_classifier.hdf5\n",
      "37/37 [==============================] - 0s 4ms/step - loss: 0.3724 - accuracy: 0.8571 - val_loss: 0.2255 - val_accuracy: 0.9487\n",
      "Epoch 49/1000\n",
      "31/37 [========================>.....] - ETA: 0s - loss: 0.3691 - accuracy: 0.8662\n",
      "Epoch 49: saving model to model/point_history_classifier/point_history_classifier.hdf5\n",
      "37/37 [==============================] - 0s 3ms/step - loss: 0.3671 - accuracy: 0.8669 - val_loss: 0.2260 - val_accuracy: 0.9468\n",
      "Epoch 50/1000\n",
      "34/37 [==========================>...] - ETA: 0s - loss: 0.3598 - accuracy: 0.8624\n",
      "Epoch 50: saving model to model/point_history_classifier/point_history_classifier.hdf5\n",
      "37/37 [==============================] - 0s 3ms/step - loss: 0.3612 - accuracy: 0.8620 - val_loss: 0.2147 - val_accuracy: 0.9525\n",
      "Epoch 51/1000\n",
      "33/37 [=========================>....] - ETA: 0s - loss: 0.3633 - accuracy: 0.8658\n",
      "Epoch 51: saving model to model/point_history_classifier/point_history_classifier.hdf5\n",
      "37/37 [==============================] - 0s 3ms/step - loss: 0.3630 - accuracy: 0.8667 - val_loss: 0.2158 - val_accuracy: 0.9487\n",
      "Epoch 52/1000\n",
      "34/37 [==========================>...] - ETA: 0s - loss: 0.3513 - accuracy: 0.8716\n",
      "Epoch 52: saving model to model/point_history_classifier/point_history_classifier.hdf5\n",
      "37/37 [==============================] - 0s 3ms/step - loss: 0.3537 - accuracy: 0.8707 - val_loss: 0.2138 - val_accuracy: 0.9506\n",
      "Epoch 53/1000\n",
      "32/37 [========================>.....] - ETA: 0s - loss: 0.3691 - accuracy: 0.8613\n",
      "Epoch 53: saving model to model/point_history_classifier/point_history_classifier.hdf5\n",
      "37/37 [==============================] - 0s 3ms/step - loss: 0.3679 - accuracy: 0.8620 - val_loss: 0.2152 - val_accuracy: 0.9499\n",
      "Epoch 54/1000\n",
      "30/37 [=======================>......] - ETA: 0s - loss: 0.3422 - accuracy: 0.8760\n",
      "Epoch 54: saving model to model/point_history_classifier/point_history_classifier.hdf5\n",
      "37/37 [==============================] - 0s 3ms/step - loss: 0.3502 - accuracy: 0.8749 - val_loss: 0.2117 - val_accuracy: 0.9493\n",
      "Epoch 55/1000\n",
      "34/37 [==========================>...] - ETA: 0s - loss: 0.3540 - accuracy: 0.8722\n",
      "Epoch 55: saving model to model/point_history_classifier/point_history_classifier.hdf5\n",
      "37/37 [==============================] - 0s 3ms/step - loss: 0.3529 - accuracy: 0.8719 - val_loss: 0.2099 - val_accuracy: 0.9493\n",
      "Epoch 56/1000\n",
      "26/37 [====================>.........] - ETA: 0s - loss: 0.3530 - accuracy: 0.8702\n",
      "Epoch 56: saving model to model/point_history_classifier/point_history_classifier.hdf5\n",
      "37/37 [==============================] - 0s 3ms/step - loss: 0.3503 - accuracy: 0.8709 - val_loss: 0.2078 - val_accuracy: 0.9493\n",
      "Epoch 57/1000\n",
      "33/37 [=========================>....] - ETA: 0s - loss: 0.3583 - accuracy: 0.8717\n",
      "Epoch 57: saving model to model/point_history_classifier/point_history_classifier.hdf5\n",
      "37/37 [==============================] - 0s 3ms/step - loss: 0.3597 - accuracy: 0.8696 - val_loss: 0.2055 - val_accuracy: 0.9487\n",
      "Epoch 58/1000\n",
      "33/37 [=========================>....] - ETA: 0s - loss: 0.3303 - accuracy: 0.8745\n",
      "Epoch 58: saving model to model/point_history_classifier/point_history_classifier.hdf5\n",
      "37/37 [==============================] - 0s 3ms/step - loss: 0.3287 - accuracy: 0.8755 - val_loss: 0.2103 - val_accuracy: 0.9417\n",
      "Epoch 59/1000\n",
      "32/37 [========================>.....] - ETA: 0s - loss: 0.3487 - accuracy: 0.8718\n",
      "Epoch 59: saving model to model/point_history_classifier/point_history_classifier.hdf5\n",
      "37/37 [==============================] - 0s 3ms/step - loss: 0.3495 - accuracy: 0.8728 - val_loss: 0.1969 - val_accuracy: 0.9506\n",
      "Epoch 60/1000\n",
      "31/37 [========================>.....] - ETA: 0s - loss: 0.3534 - accuracy: 0.8768\n",
      "Epoch 60: saving model to model/point_history_classifier/point_history_classifier.hdf5\n",
      "37/37 [==============================] - 0s 3ms/step - loss: 0.3517 - accuracy: 0.8753 - val_loss: 0.1975 - val_accuracy: 0.9512\n",
      "Epoch 61/1000\n",
      "31/37 [========================>.....] - ETA: 0s - loss: 0.3314 - accuracy: 0.8808\n",
      "Epoch 61: saving model to model/point_history_classifier/point_history_classifier.hdf5\n",
      "37/37 [==============================] - 0s 3ms/step - loss: 0.3294 - accuracy: 0.8798 - val_loss: 0.1954 - val_accuracy: 0.9487\n",
      "Epoch 62/1000\n",
      "34/37 [==========================>...] - ETA: 0s - loss: 0.3367 - accuracy: 0.8734\n",
      "Epoch 62: saving model to model/point_history_classifier/point_history_classifier.hdf5\n",
      "37/37 [==============================] - 0s 3ms/step - loss: 0.3367 - accuracy: 0.8734 - val_loss: 0.1995 - val_accuracy: 0.9449\n",
      "Epoch 63/1000\n",
      "31/37 [========================>.....] - ETA: 0s - loss: 0.3495 - accuracy: 0.8697\n",
      "Epoch 63: saving model to model/point_history_classifier/point_history_classifier.hdf5\n",
      "37/37 [==============================] - 0s 3ms/step - loss: 0.3427 - accuracy: 0.8730 - val_loss: 0.1939 - val_accuracy: 0.9531\n",
      "Epoch 64/1000\n",
      "33/37 [=========================>....] - ETA: 0s - loss: 0.3274 - accuracy: 0.8781\n",
      "Epoch 64: saving model to model/point_history_classifier/point_history_classifier.hdf5\n",
      "37/37 [==============================] - 0s 4ms/step - loss: 0.3268 - accuracy: 0.8802 - val_loss: 0.1906 - val_accuracy: 0.9474\n",
      "Epoch 65/1000\n",
      "31/37 [========================>.....] - ETA: 0s - loss: 0.3363 - accuracy: 0.8773\n",
      "Epoch 65: saving model to model/point_history_classifier/point_history_classifier.hdf5\n",
      "37/37 [==============================] - 0s 3ms/step - loss: 0.3346 - accuracy: 0.8783 - val_loss: 0.1919 - val_accuracy: 0.9480\n",
      "Epoch 66/1000\n",
      "34/37 [==========================>...] - ETA: 0s - loss: 0.3246 - accuracy: 0.8789\n",
      "Epoch 66: saving model to model/point_history_classifier/point_history_classifier.hdf5\n",
      "37/37 [==============================] - 0s 3ms/step - loss: 0.3259 - accuracy: 0.8770 - val_loss: 0.1911 - val_accuracy: 0.9461\n",
      "Epoch 67/1000\n",
      "34/37 [==========================>...] - ETA: 0s - loss: 0.3439 - accuracy: 0.8706\n",
      "Epoch 67: saving model to model/point_history_classifier/point_history_classifier.hdf5\n",
      "37/37 [==============================] - 0s 3ms/step - loss: 0.3414 - accuracy: 0.8726 - val_loss: 0.1906 - val_accuracy: 0.9468\n",
      "Epoch 68/1000\n",
      "37/37 [==============================] - ETA: 0s - loss: 0.3277 - accuracy: 0.8757\n",
      "Epoch 68: saving model to model/point_history_classifier/point_history_classifier.hdf5\n",
      "37/37 [==============================] - 0s 3ms/step - loss: 0.3277 - accuracy: 0.8757 - val_loss: 0.1898 - val_accuracy: 0.9480\n",
      "Epoch 69/1000\n",
      "37/37 [==============================] - ETA: 0s - loss: 0.3319 - accuracy: 0.8749\n",
      "Epoch 69: saving model to model/point_history_classifier/point_history_classifier.hdf5\n",
      "37/37 [==============================] - 0s 3ms/step - loss: 0.3319 - accuracy: 0.8749 - val_loss: 0.1869 - val_accuracy: 0.9512\n",
      "Epoch 70/1000\n",
      "32/37 [========================>.....] - ETA: 0s - loss: 0.3202 - accuracy: 0.8843\n",
      "Epoch 70: saving model to model/point_history_classifier/point_history_classifier.hdf5\n",
      "37/37 [==============================] - 0s 3ms/step - loss: 0.3168 - accuracy: 0.8867 - val_loss: 0.1842 - val_accuracy: 0.9537\n",
      "Epoch 71/1000\n",
      "37/37 [==============================] - ETA: 0s - loss: 0.3311 - accuracy: 0.8726\n",
      "Epoch 71: saving model to model/point_history_classifier/point_history_classifier.hdf5\n",
      "37/37 [==============================] - 0s 3ms/step - loss: 0.3311 - accuracy: 0.8726 - val_loss: 0.1842 - val_accuracy: 0.9512\n",
      "Epoch 72/1000\n",
      "34/37 [==========================>...] - ETA: 0s - loss: 0.3450 - accuracy: 0.8768\n",
      "Epoch 72: saving model to model/point_history_classifier/point_history_classifier.hdf5\n",
      "37/37 [==============================] - 0s 3ms/step - loss: 0.3418 - accuracy: 0.8760 - val_loss: 0.1877 - val_accuracy: 0.9493\n",
      "Epoch 73/1000\n",
      "32/37 [========================>.....] - ETA: 0s - loss: 0.3338 - accuracy: 0.8738\n",
      "Epoch 73: saving model to model/point_history_classifier/point_history_classifier.hdf5\n",
      "37/37 [==============================] - 0s 3ms/step - loss: 0.3274 - accuracy: 0.8766 - val_loss: 0.1877 - val_accuracy: 0.9480\n",
      "Epoch 74/1000\n",
      "37/37 [==============================] - ETA: 0s - loss: 0.3301 - accuracy: 0.8774\n",
      "Epoch 74: saving model to model/point_history_classifier/point_history_classifier.hdf5\n",
      "37/37 [==============================] - 0s 3ms/step - loss: 0.3301 - accuracy: 0.8774 - val_loss: 0.1859 - val_accuracy: 0.9506\n",
      "Epoch 75/1000\n",
      " 1/37 [..............................] - ETA: 0s - loss: 0.4154 - accuracy: 0.8594\n",
      "Epoch 75: saving model to model/point_history_classifier/point_history_classifier.hdf5\n",
      "37/37 [==============================] - 0s 3ms/step - loss: 0.3351 - accuracy: 0.8787 - val_loss: 0.1812 - val_accuracy: 0.9531\n",
      "Epoch 76/1000\n",
      "36/37 [============================>.] - ETA: 0s - loss: 0.3243 - accuracy: 0.8815\n",
      "Epoch 76: saving model to model/point_history_classifier/point_history_classifier.hdf5\n",
      "37/37 [==============================] - 0s 3ms/step - loss: 0.3251 - accuracy: 0.8810 - val_loss: 0.1854 - val_accuracy: 0.9487\n",
      "Epoch 77/1000\n",
      "33/37 [=========================>....] - ETA: 0s - loss: 0.3171 - accuracy: 0.8838\n",
      "Epoch 77: saving model to model/point_history_classifier/point_history_classifier.hdf5\n",
      "37/37 [==============================] - 0s 3ms/step - loss: 0.3156 - accuracy: 0.8838 - val_loss: 0.1805 - val_accuracy: 0.9512\n",
      "Epoch 78/1000\n",
      "37/37 [==============================] - ETA: 0s - loss: 0.3059 - accuracy: 0.8878\n",
      "Epoch 78: saving model to model/point_history_classifier/point_history_classifier.hdf5\n",
      "37/37 [==============================] - 0s 3ms/step - loss: 0.3059 - accuracy: 0.8878 - val_loss: 0.1826 - val_accuracy: 0.9487\n",
      "Epoch 79/1000\n",
      "37/37 [==============================] - ETA: 0s - loss: 0.3344 - accuracy: 0.8804\n",
      "Epoch 79: saving model to model/point_history_classifier/point_history_classifier.hdf5\n",
      "37/37 [==============================] - 0s 3ms/step - loss: 0.3344 - accuracy: 0.8804 - val_loss: 0.1827 - val_accuracy: 0.9525\n",
      "Epoch 80/1000\n",
      " 1/37 [..............................] - ETA: 0s - loss: 0.2918 - accuracy: 0.8906\n",
      "Epoch 80: saving model to model/point_history_classifier/point_history_classifier.hdf5\n",
      "37/37 [==============================] - 0s 3ms/step - loss: 0.3188 - accuracy: 0.8842 - val_loss: 0.1833 - val_accuracy: 0.9512\n",
      "Epoch 81/1000\n",
      " 1/37 [..............................] - ETA: 0s - loss: 0.3168 - accuracy: 0.8906\n",
      "Epoch 81: saving model to model/point_history_classifier/point_history_classifier.hdf5\n",
      "37/37 [==============================] - 0s 2ms/step - loss: 0.3161 - accuracy: 0.8874 - val_loss: 0.1834 - val_accuracy: 0.9499\n",
      "Epoch 82/1000\n",
      " 1/37 [..............................] - ETA: 0s - loss: 0.2525 - accuracy: 0.9453\n",
      "Epoch 82: saving model to model/point_history_classifier/point_history_classifier.hdf5\n",
      "37/37 [==============================] - 0s 3ms/step - loss: 0.3181 - accuracy: 0.8823 - val_loss: 0.1794 - val_accuracy: 0.9474\n",
      "Epoch 83/1000\n",
      "36/37 [============================>.] - ETA: 0s - loss: 0.3123 - accuracy: 0.8817\n",
      "Epoch 83: saving model to model/point_history_classifier/point_history_classifier.hdf5\n",
      "37/37 [==============================] - 0s 3ms/step - loss: 0.3129 - accuracy: 0.8817 - val_loss: 0.1791 - val_accuracy: 0.9487\n",
      "Epoch 84/1000\n",
      "29/37 [======================>.......] - ETA: 0s - loss: 0.3156 - accuracy: 0.8812\n",
      "Epoch 84: saving model to model/point_history_classifier/point_history_classifier.hdf5\n",
      "37/37 [==============================] - 0s 3ms/step - loss: 0.3171 - accuracy: 0.8798 - val_loss: 0.1882 - val_accuracy: 0.9449\n",
      "Epoch 85/1000\n",
      "37/37 [==============================] - ETA: 0s - loss: 0.3061 - accuracy: 0.8897\n",
      "Epoch 85: saving model to model/point_history_classifier/point_history_classifier.hdf5\n",
      "37/37 [==============================] - 0s 3ms/step - loss: 0.3061 - accuracy: 0.8897 - val_loss: 0.1792 - val_accuracy: 0.9461\n",
      "Epoch 86/1000\n",
      " 1/37 [..............................] - ETA: 0s - loss: 0.3163 - accuracy: 0.8672\n",
      "Epoch 86: saving model to model/point_history_classifier/point_history_classifier.hdf5\n",
      "37/37 [==============================] - 0s 3ms/step - loss: 0.3138 - accuracy: 0.8823 - val_loss: 0.1749 - val_accuracy: 0.9474\n",
      "Epoch 87/1000\n",
      " 1/37 [..............................] - ETA: 0s - loss: 0.3248 - accuracy: 0.8906\n",
      "Epoch 87: saving model to model/point_history_classifier/point_history_classifier.hdf5\n",
      "37/37 [==============================] - 0s 3ms/step - loss: 0.3264 - accuracy: 0.8730 - val_loss: 0.1748 - val_accuracy: 0.9550\n",
      "Epoch 88/1000\n",
      " 1/37 [..............................] - ETA: 0s - loss: 0.3696 - accuracy: 0.8594\n",
      "Epoch 88: saving model to model/point_history_classifier/point_history_classifier.hdf5\n",
      "37/37 [==============================] - 0s 3ms/step - loss: 0.3186 - accuracy: 0.8793 - val_loss: 0.1757 - val_accuracy: 0.9531\n",
      "Epoch 89/1000\n",
      " 1/37 [..............................] - ETA: 0s - loss: 0.2975 - accuracy: 0.9062\n",
      "Epoch 89: saving model to model/point_history_classifier/point_history_classifier.hdf5\n",
      "37/37 [==============================] - 0s 3ms/step - loss: 0.3020 - accuracy: 0.8882 - val_loss: 0.1763 - val_accuracy: 0.9512\n",
      "Epoch 90/1000\n",
      " 1/37 [..............................] - ETA: 0s - loss: 0.2926 - accuracy: 0.8750\n",
      "Epoch 90: saving model to model/point_history_classifier/point_history_classifier.hdf5\n",
      "37/37 [==============================] - 0s 3ms/step - loss: 0.3159 - accuracy: 0.8793 - val_loss: 0.1778 - val_accuracy: 0.9480\n",
      "Epoch 91/1000\n",
      " 1/37 [..............................] - ETA: 0s - loss: 0.2996 - accuracy: 0.8984\n",
      "Epoch 91: saving model to model/point_history_classifier/point_history_classifier.hdf5\n",
      "37/37 [==============================] - 0s 2ms/step - loss: 0.3134 - accuracy: 0.8791 - val_loss: 0.1806 - val_accuracy: 0.9474\n",
      "Epoch 92/1000\n",
      " 1/37 [..............................] - ETA: 0s - loss: 0.3374 - accuracy: 0.8750\n",
      "Epoch 92: saving model to model/point_history_classifier/point_history_classifier.hdf5\n",
      "37/37 [==============================] - 0s 3ms/step - loss: 0.2998 - accuracy: 0.8850 - val_loss: 0.1761 - val_accuracy: 0.9480\n",
      "Epoch 93/1000\n",
      " 1/37 [..............................] - ETA: 0s - loss: 0.3110 - accuracy: 0.8594\n",
      "Epoch 93: saving model to model/point_history_classifier/point_history_classifier.hdf5\n",
      "37/37 [==============================] - 0s 3ms/step - loss: 0.3045 - accuracy: 0.8867 - val_loss: 0.1698 - val_accuracy: 0.9531\n",
      "Epoch 94/1000\n",
      "36/37 [============================>.] - ETA: 0s - loss: 0.3006 - accuracy: 0.8882\n",
      "Epoch 94: saving model to model/point_history_classifier/point_history_classifier.hdf5\n",
      "37/37 [==============================] - 0s 3ms/step - loss: 0.3004 - accuracy: 0.8884 - val_loss: 0.1704 - val_accuracy: 0.9506\n",
      "Epoch 95/1000\n",
      "29/37 [======================>.......] - ETA: 0s - loss: 0.3174 - accuracy: 0.8844\n",
      "Epoch 95: saving model to model/point_history_classifier/point_history_classifier.hdf5\n",
      "37/37 [==============================] - 0s 3ms/step - loss: 0.3233 - accuracy: 0.8840 - val_loss: 0.1798 - val_accuracy: 0.9455\n",
      "Epoch 96/1000\n",
      "37/37 [==============================] - ETA: 0s - loss: 0.3050 - accuracy: 0.8905\n",
      "Epoch 96: saving model to model/point_history_classifier/point_history_classifier.hdf5\n",
      "37/37 [==============================] - 0s 3ms/step - loss: 0.3050 - accuracy: 0.8905 - val_loss: 0.1717 - val_accuracy: 0.9544\n",
      "Epoch 97/1000\n",
      "34/37 [==========================>...] - ETA: 0s - loss: 0.3050 - accuracy: 0.8853\n",
      "Epoch 97: saving model to model/point_history_classifier/point_history_classifier.hdf5\n",
      "37/37 [==============================] - 0s 3ms/step - loss: 0.3125 - accuracy: 0.8817 - val_loss: 0.1838 - val_accuracy: 0.9404\n",
      "Epoch 98/1000\n",
      " 1/37 [..............................] - ETA: 0s - loss: 0.3155 - accuracy: 0.8828\n",
      "Epoch 98: saving model to model/point_history_classifier/point_history_classifier.hdf5\n",
      "37/37 [==============================] - 0s 3ms/step - loss: 0.3043 - accuracy: 0.8872 - val_loss: 0.1758 - val_accuracy: 0.9480\n",
      "Epoch 99/1000\n",
      "35/37 [===========================>..] - ETA: 0s - loss: 0.2957 - accuracy: 0.8908\n",
      "Epoch 99: saving model to model/point_history_classifier/point_history_classifier.hdf5\n",
      "37/37 [==============================] - 0s 3ms/step - loss: 0.2998 - accuracy: 0.8901 - val_loss: 0.1761 - val_accuracy: 0.9430\n",
      "Epoch 100/1000\n",
      "37/37 [==============================] - ETA: 0s - loss: 0.3046 - accuracy: 0.8852\n",
      "Epoch 100: saving model to model/point_history_classifier/point_history_classifier.hdf5\n",
      "37/37 [==============================] - 0s 3ms/step - loss: 0.3046 - accuracy: 0.8852 - val_loss: 0.1707 - val_accuracy: 0.9512\n",
      "Epoch 101/1000\n",
      "37/37 [==============================] - ETA: 0s - loss: 0.3149 - accuracy: 0.8804\n",
      "Epoch 101: saving model to model/point_history_classifier/point_history_classifier.hdf5\n",
      "37/37 [==============================] - 0s 3ms/step - loss: 0.3149 - accuracy: 0.8804 - val_loss: 0.1797 - val_accuracy: 0.9461\n",
      "Epoch 102/1000\n",
      " 1/37 [..............................] - ETA: 0s - loss: 0.3082 - accuracy: 0.8828\n",
      "Epoch 102: saving model to model/point_history_classifier/point_history_classifier.hdf5\n",
      "37/37 [==============================] - 0s 3ms/step - loss: 0.3104 - accuracy: 0.8806 - val_loss: 0.1702 - val_accuracy: 0.9525\n",
      "Epoch 103/1000\n",
      " 1/37 [..............................] - ETA: 0s - loss: 0.3647 - accuracy: 0.8516\n",
      "Epoch 103: saving model to model/point_history_classifier/point_history_classifier.hdf5\n",
      "37/37 [==============================] - 0s 3ms/step - loss: 0.2995 - accuracy: 0.8869 - val_loss: 0.1699 - val_accuracy: 0.9499\n",
      "Epoch 104/1000\n",
      " 1/37 [..............................] - ETA: 0s - loss: 0.2018 - accuracy: 0.9141\n",
      "Epoch 104: saving model to model/point_history_classifier/point_history_classifier.hdf5\n",
      "37/37 [==============================] - 0s 3ms/step - loss: 0.3073 - accuracy: 0.8812 - val_loss: 0.1788 - val_accuracy: 0.9411\n",
      "Epoch 105/1000\n",
      " 1/37 [..............................] - ETA: 0s - loss: 0.3010 - accuracy: 0.8750\n",
      "Epoch 105: saving model to model/point_history_classifier/point_history_classifier.hdf5\n",
      "37/37 [==============================] - 0s 3ms/step - loss: 0.2988 - accuracy: 0.8935 - val_loss: 0.1699 - val_accuracy: 0.9518\n",
      "Epoch 106/1000\n",
      " 1/37 [..............................] - ETA: 0s - loss: 0.2841 - accuracy: 0.8750\n",
      "Epoch 106: saving model to model/point_history_classifier/point_history_classifier.hdf5\n",
      "37/37 [==============================] - 0s 2ms/step - loss: 0.3026 - accuracy: 0.8840 - val_loss: 0.1709 - val_accuracy: 0.9506\n",
      "Epoch 107/1000\n",
      " 1/37 [..............................] - ETA: 0s - loss: 0.2412 - accuracy: 0.9219\n",
      "Epoch 107: saving model to model/point_history_classifier/point_history_classifier.hdf5\n",
      "37/37 [==============================] - 0s 3ms/step - loss: 0.3120 - accuracy: 0.8831 - val_loss: 0.1795 - val_accuracy: 0.9385\n",
      "Epoch 108/1000\n",
      " 1/37 [..............................] - ETA: 0s - loss: 0.3702 - accuracy: 0.8594\n",
      "Epoch 108: saving model to model/point_history_classifier/point_history_classifier.hdf5\n",
      "37/37 [==============================] - 0s 2ms/step - loss: 0.2950 - accuracy: 0.8912 - val_loss: 0.1701 - val_accuracy: 0.9512\n",
      "Epoch 109/1000\n",
      "37/37 [==============================] - ETA: 0s - loss: 0.3017 - accuracy: 0.8888\n",
      "Epoch 109: saving model to model/point_history_classifier/point_history_classifier.hdf5\n",
      "37/37 [==============================] - 0s 3ms/step - loss: 0.3017 - accuracy: 0.8888 - val_loss: 0.1841 - val_accuracy: 0.9341\n",
      "Epoch 110/1000\n",
      " 1/37 [..............................] - ETA: 0s - loss: 0.2919 - accuracy: 0.8906\n",
      "Epoch 110: saving model to model/point_history_classifier/point_history_classifier.hdf5\n",
      "37/37 [==============================] - 0s 2ms/step - loss: 0.3132 - accuracy: 0.8869 - val_loss: 0.1807 - val_accuracy: 0.9398\n",
      "Epoch 111/1000\n",
      " 1/37 [..............................] - ETA: 0s - loss: 0.3232 - accuracy: 0.8594\n",
      "Epoch 111: saving model to model/point_history_classifier/point_history_classifier.hdf5\n",
      "37/37 [==============================] - 0s 3ms/step - loss: 0.3063 - accuracy: 0.8848 - val_loss: 0.1842 - val_accuracy: 0.9360\n",
      "Epoch 112/1000\n",
      " 1/37 [..............................] - ETA: 0s - loss: 0.2202 - accuracy: 0.9219\n",
      "Epoch 112: saving model to model/point_history_classifier/point_history_classifier.hdf5\n",
      "37/37 [==============================] - 0s 2ms/step - loss: 0.3028 - accuracy: 0.8863 - val_loss: 0.1776 - val_accuracy: 0.9404\n",
      "Epoch 113/1000\n",
      "36/37 [============================>.] - ETA: 0s - loss: 0.3144 - accuracy: 0.8845\n",
      "Epoch 113: saving model to model/point_history_classifier/point_history_classifier.hdf5\n",
      "37/37 [==============================] - 0s 3ms/step - loss: 0.3119 - accuracy: 0.8855 - val_loss: 0.1729 - val_accuracy: 0.9474\n",
      "Epoch 113: early stopping\n"
     ]
    },
    {
     "data": {
      "text/plain": [
       "<keras.callbacks.History at 0x7f699c153c40>"
      ]
     },
     "execution_count": 12,
     "metadata": {},
     "output_type": "execute_result"
    }
   ],
   "source": [
    "model.fit(\n",
    "    X_train,\n",
    "    y_train,\n",
    "    epochs=1000,\n",
    "    batch_size=128,\n",
    "    validation_data=(X_test, y_test),\n",
    "    callbacks=[cp_callback, es_callback]\n",
    ")"
   ]
  },
  {
   "cell_type": "code",
   "execution_count": 13,
   "metadata": {},
   "outputs": [],
   "source": [
    "# 保存したモデルのロード\n",
    "model = tf.keras.models.load_model(model_save_path)"
   ]
  },
  {
   "cell_type": "code",
   "execution_count": 14,
   "metadata": {},
   "outputs": [
    {
     "name": "stdout",
     "output_type": "stream",
     "text": [
      "1/1 [==============================] - 0s 73ms/step\n",
      "[2.0449679e-15 1.3472976e-02 9.8652703e-01]\n",
      "2\n"
     ]
    }
   ],
   "source": [
    "# 推論テスト\n",
    "predict_result = model.predict(np.array([X_test[0]]))\n",
    "print(np.squeeze(predict_result))\n",
    "print(np.argmax(np.squeeze(predict_result)))"
   ]
  },
  {
   "cell_type": "markdown",
   "metadata": {},
   "source": [
    "# 混同行列"
   ]
  },
  {
   "cell_type": "code",
   "execution_count": 15,
   "metadata": {},
   "outputs": [
    {
     "name": "stdout",
     "output_type": "stream",
     "text": [
      "50/50 [==============================] - 0s 1ms/step\n"
     ]
    },
    {
     "data": {
      "image/png": "[encoded data removed]",
      "text/plain": [
       "<Figure size 700x600 with 2 Axes>"
      ]
     },
     "metadata": {},
     "output_type": "display_data"
    },
    {
     "name": "stdout",
     "output_type": "stream",
     "text": [
      "Classification Report\n",
      "              precision    recall  f1-score   support\n",
      "\n",
      "           0       0.98      1.00      0.99       397\n",
      "           1       0.96      0.90      0.93       612\n",
      "           2       0.91      0.96      0.93       569\n",
      "\n",
      "    accuracy                           0.95      1578\n",
      "   macro avg       0.95      0.95      0.95      1578\n",
      "weighted avg       0.95      0.95      0.95      1578\n",
      "\n"
     ]
    }
   ],
   "source": [
    "import pandas as pd\n",
    "import seaborn as sns\n",
    "import matplotlib.pyplot as plt\n",
    "from sklearn.metrics import confusion_matrix, classification_report\n",
    "\n",
    "def print_confusion_matrix(y_true, y_pred, report=True):\n",
    "    labels = sorted(list(set(y_true)))\n",
    "    cmx_data = confusion_matrix(y_true, y_pred, labels=labels)\n",
    "    \n",
    "    df_cmx = pd.DataFrame(cmx_data, index=labels, columns=labels)\n",
    " \n",
    "    fig, ax = plt.subplots(figsize=(7, 6))\n",
    "    sns.heatmap(df_cmx, annot=True, fmt='g' ,square=False)\n",
    "    ax.set_ylim(len(set(y_true)), 0)\n",
    "    plt.show()\n",
    "    \n",
    "    if report:\n",
    "        print('Classification Report')\n",
    "        print(classification_report(y_test, y_pred))\n",
    "\n",
    "Y_pred = model.predict(X_test)\n",
    "y_pred = np.argmax(Y_pred, axis=1)\n",
    "\n",
    "print_confusion_matrix(y_test, y_pred)"
   ]
  },
  {
   "cell_type": "markdown",
   "metadata": {},
   "source": [
    "# Tensorflow-Lite用のモデルへ変換"
   ]
  },
  {
   "cell_type": "code",
   "execution_count": 16,
   "metadata": {},
   "outputs": [
    {
     "name": "stdout",
     "output_type": "stream",
     "text": [
      "WARNING:tensorflow:No training configuration found in the save file, so the model was *not* compiled. Compile it manually.\n"
     ]
    }
   ],
   "source": [
    "# 推論専用のモデルとして保存\n",
    "model.save(model_save_path, include_optimizer=False)\n",
    "model = tf.keras.models.load_model(model_save_path)"
   ]
  },
  {
   "cell_type": "code",
   "execution_count": 17,
   "metadata": {},
   "outputs": [],
   "source": [
    "tflite_save_path = 'model/point_history_classifier/point_history_classifier.tflite'"
   ]
  },
  {
   "cell_type": "code",
   "execution_count": 18,
   "metadata": {},
   "outputs": [
    {
     "name": "stderr",
     "output_type": "stream",
     "text": [
      "2023-06-29 15:35:34.015096: I tensorflow/core/common_runtime/executor.cc:1197] [/device:CPU:0] (DEBUG INFO) Executor start aborting (this does not indicate an error and you can ignore this message): INVALID_ARGUMENT: You must feed a value for placeholder tensor 'input_1' with dtype float and shape [?,32]\n",
      "\t [[{{node input_1}}]]\n",
      "2023-06-29 15:35:34.064701: I tensorflow/core/common_runtime/executor.cc:1197] [/device:CPU:0] (DEBUG INFO) Executor start aborting (this does not indicate an error and you can ignore this message): INVALID_ARGUMENT: You must feed a value for placeholder tensor 'inputs' with dtype float and shape [?,32]\n",
      "\t [[{{node inputs}}]]\n",
      "2023-06-29 15:35:34.077920: I tensorflow/core/common_runtime/executor.cc:1197] [/device:CPU:0] (DEBUG INFO) Executor start aborting (this does not indicate an error and you can ignore this message): INVALID_ARGUMENT: You must feed a value for placeholder tensor 'input_1' with dtype float and shape [?,32]\n",
      "\t [[{{node input_1}}]]\n",
      "2023-06-29 15:35:34.100184: I tensorflow/core/common_runtime/executor.cc:1197] [/device:CPU:0] (DEBUG INFO) Executor start aborting (this does not indicate an error and you can ignore this message): INVALID_ARGUMENT: You must feed a value for placeholder tensor 'inputs' with dtype float and shape [?,32]\n",
      "\t [[{{node inputs}}]]\n",
      "2023-06-29 15:35:34.112522: I tensorflow/core/common_runtime/executor.cc:1197] [/device:CPU:0] (DEBUG INFO) Executor start aborting (this does not indicate an error and you can ignore this message): INVALID_ARGUMENT: You must feed a value for placeholder tensor 'inputs' with dtype float and shape [?,24]\n",
      "\t [[{{node inputs}}]]\n",
      "2023-06-29 15:35:34.132931: I tensorflow/core/common_runtime/executor.cc:1197] [/device:CPU:0] (DEBUG INFO) Executor start aborting (this does not indicate an error and you can ignore this message): INVALID_ARGUMENT: You must feed a value for placeholder tensor 'inputs' with dtype float and shape [?,32]\n",
      "\t [[{{node inputs}}]]\n",
      "2023-06-29 15:35:34.199025: I tensorflow/core/common_runtime/executor.cc:1197] [/device:CPU:0] (DEBUG INFO) Executor start aborting (this does not indicate an error and you can ignore this message): INVALID_ARGUMENT: You must feed a value for placeholder tensor 'inputs' with dtype float and shape [?,32]\n",
      "\t [[{{node inputs}}]]\n"
     ]
    },
    {
     "name": "stdout",
     "output_type": "stream",
     "text": [
      "INFO:tensorflow:Assets written to: /tmp/tmp_agnleif/assets\n"
     ]
    },
    {
     "name": "stderr",
     "output_type": "stream",
     "text": [
      "2023-06-29 15:35:34.248380: I tensorflow/core/common_runtime/executor.cc:1197] [/device:CPU:0] (DEBUG INFO) Executor start aborting (this does not indicate an error and you can ignore this message): INVALID_ARGUMENT: You must feed a value for placeholder tensor 'inputs' with dtype float and shape [?,32]\n",
      "\t [[{{node inputs}}]]\n",
      "2023-06-29 15:35:34.277944: I tensorflow/core/common_runtime/executor.cc:1197] [/device:CPU:0] (DEBUG INFO) Executor start aborting (this does not indicate an error and you can ignore this message): INVALID_ARGUMENT: You must feed a value for placeholder tensor 'inputs' with dtype float and shape [?,24]\n",
      "\t [[{{node inputs}}]]\n",
      "2023-06-29 15:35:34.719162: W tensorflow/compiler/mlir/lite/python/tf_tfl_flatbuffer_helpers.cc:364] Ignored output_format.\n",
      "2023-06-29 15:35:34.719196: W tensorflow/compiler/mlir/lite/python/tf_tfl_flatbuffer_helpers.cc:367] Ignored drop_control_dependency.\n",
      "2023-06-29 15:35:34.719559: I tensorflow/cc/saved_model/reader.cc:45] Reading SavedModel from: /tmp/tmp_agnleif\n",
      "2023-06-29 15:35:34.720419: I tensorflow/cc/saved_model/reader.cc:89] Reading meta graph with tags { serve }\n",
      "2023-06-29 15:35:34.720436: I tensorflow/cc/saved_model/reader.cc:130] Reading SavedModel debug info (if present) from: /tmp/tmp_agnleif\n",
      "2023-06-29 15:35:34.723256: I tensorflow/compiler/mlir/mlir_graph_optimization_pass.cc:353] MLIR V1 optimization pass is not enabled\n",
      "2023-06-29 15:35:34.723929: I tensorflow/cc/saved_model/loader.cc:231] Restoring SavedModel bundle.\n",
      "2023-06-29 15:35:34.741967: I tensorflow/cc/saved_model/loader.cc:215] Running initialization op on SavedModel bundle at path: /tmp/tmp_agnleif\n",
      "2023-06-29 15:35:34.747835: I tensorflow/cc/saved_model/loader.cc:314] SavedModel load for tags { serve }; Status: success: OK. Took 28278 microseconds.\n",
      "2023-06-29 15:35:34.762011: I tensorflow/compiler/mlir/tensorflow/utils/dump_mlir_util.cc:269] disabling MLIR crash reproducer, set env var `MLIR_CRASH_REPRODUCER_DIRECTORY` to enable.\n"
     ]
    },
    {
     "data": {
      "text/plain": [
       "6388"
      ]
     },
     "execution_count": 18,
     "metadata": {},
     "output_type": "execute_result"
    }
   ],
   "source": [
    "# モデルを変換(量子化\n",
    "converter = tf.lite.TFLiteConverter.from_keras_model(model)  # converter = tf.lite.TFLiteConverter.from_saved_model(saved_model_path)\n",
    "converter.optimizations = [tf.lite.Optimize.DEFAULT]\n",
    "tflite_quantized_model = converter.convert()\n",
    "\n",
    "open(tflite_save_path, 'wb').write(tflite_quantized_model)"
   ]
  },
  {
   "cell_type": "markdown",
   "metadata": {},
   "source": [
    "# 推論テスト"
   ]
  },
  {
   "cell_type": "code",
   "execution_count": 19,
   "metadata": {},
   "outputs": [
    {
     "name": "stderr",
     "output_type": "stream",
     "text": [
      "INFO: Created TensorFlow Lite XNNPACK delegate for CPU.\n"
     ]
    }
   ],
   "source": [
    "interpreter = tf.lite.Interpreter(model_path=tflite_save_path)\n",
    "interpreter.allocate_tensors()"
   ]
  },
  {
   "cell_type": "code",
   "execution_count": 20,
   "metadata": {},
   "outputs": [
    {
     "name": "stdout",
     "output_type": "stream",
     "text": [
      "[{'name': 'serving_default_input_1:0', 'index': 0, 'shape': array([ 1, 32], dtype=int32), 'shape_signature': array([-1, 32], dtype=int32), 'dtype': <class 'numpy.float32'>, 'quantization': (0.0, 0), 'quantization_parameters': {'scales': array([], dtype=float32), 'zero_points': array([], dtype=int32), 'quantized_dimension': 0}, 'sparsity_parameters': {}}]\n"
     ]
    }
   ],
   "source": [
    "# 入出力テンソルを取得\n",
    "input_details = interpreter.get_input_details()\n",
    "output_details = interpreter.get_output_details()\n",
    "print(input_details)"
   ]
  },
  {
   "cell_type": "code",
   "execution_count": 21,
   "metadata": {},
   "outputs": [],
   "source": [
    "interpreter.set_tensor(input_details[0]['index'], np.array([X_test[0]]))"
   ]
  },
  {
   "cell_type": "code",
   "execution_count": 22,
   "metadata": {},
   "outputs": [
    {
     "name": "stdout",
     "output_type": "stream",
     "text": [
      "CPU times: user 143 µs, sys: 24 µs, total: 167 µs\n",
      "Wall time: 138 µs\n"
     ]
    }
   ],
   "source": [
    "%%time\n",
    "# 推論実施\n",
    "interpreter.invoke()\n",
    "tflite_results = interpreter.get_tensor(output_details[0]['index'])"
   ]
  },
  {
   "cell_type": "code",
   "execution_count": 23,
   "metadata": {},
   "outputs": [
    {
     "name": "stdout",
     "output_type": "stream",
     "text": [
      "[2.0449677e-15 1.3472989e-02 9.8652703e-01]\n",
      "2\n"
     ]
    }
   ],
   "source": [
    "print(np.squeeze(tflite_results))\n",
    "print(np.argmax(np.squeeze(tflite_results)))"
   ]
  }
 ],
 "metadata": {
  "kernelspec": {
   "display_name": "Python 3",
   "language": "python",
   "name": "python3"
  },
  "language_info": {
   "codemirror_mode": {
    "name": "ipython",
    "version": 3
   },
   "file_extension": ".py",
   "mimetype": "text/x-python",
   "name": "python",
   "nbconvert_exporter": "python",
   "pygments_lexer": "ipython3",
   "version": "3.8.10"
  }
 },
 "nbformat": 4,
 "nbformat_minor": 4
}
